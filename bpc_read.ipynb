{
 "cells": [
  {
   "cell_type": "code",
   "execution_count": 3,
   "metadata": {},
   "outputs": [
    {
     "data": {
      "text/plain": [
       "write_to_file (generic function with 1 method)"
      ]
     },
     "metadata": {},
     "output_type": "display_data"
    }
   ],
   "source": [
    "# include(\"C:\\\\Users\\\\danie\\\\Documents\\\\GitHub\\\\bpc\\\\bpc.jl\")\n",
    "# include(\"C:\\\\Users\\\\danie\\\\.github\\\\bpc\\\\bpc.jl\")\n",
    "include(\"bpc.jl\")\n",
    "include(\"data.jl\")\n",
    "\n"
   ]
  },
  {
   "cell_type": "code",
   "execution_count": 4,
   "metadata": {},
   "outputs": [
    {
     "data": {
      "text/plain": [
       "([1, 2, 3, 4, 5, 6, 7, 8, 9, 10  …  51, 52, 53, 54, 55, 56, 57, 58, 59, 60], [1080, 2477, 1263, 1236, 2072, 1427, 1836, 1548, 1694, 601  …  1755, 1053, 640, 1744, 1605, 1395, 1971, 533, 1438, 2178], [[1, 3], [1, 4], [1, 6], [1, 9], [1, 13], [1, 14], [1, 15], [1, 16], [1, 17], [1, 18]  …  [55, 57], [55, 59], [55, 60], [56, 57], [56, 58], [56, 60], [57, 59], [57, 60], [58, 59], [59, 60]], 10000)"
      ]
     },
     "metadata": {},
     "output_type": "display_data"
    }
   ],
   "source": [
    "J, w, E, W = read_file(\"BPWC_0_6_8.txt\")\n"
   ]
  },
  {
   "cell_type": "code",
   "execution_count": 13,
   "metadata": {},
   "outputs": [
    {
     "name": "stdout",
     "output_type": "stream",
     "text": [
      "node 1\n",
      "Naive upper bound: 8\n",
      "⌈∑w/W⌉ lower bound: 5\n",
      "FFD heuristic upper bound: 5\n",
      "tree finished\n"
     ]
    },
    {
     "data": {
      "text/plain": [
       "([[2], [1, 7, 8], [3], [4, 5], [6]], 5)"
      ]
     },
     "metadata": {},
     "output_type": "display_data"
    }
   ],
   "source": [
    "solve_bpc(J, E, w, W, verbose=1, run_ffd=true)"
   ]
  }
 ],
 "metadata": {
  "kernelspec": {
   "display_name": "Julia 1.9.3",
   "language": "julia",
   "name": "julia-1.9"
  },
  "language_info": {
   "file_extension": ".jl",
   "mimetype": "application/julia",
   "name": "julia",
   "version": "1.9.3"
  }
 },
 "nbformat": 4,
 "nbformat_minor": 2
}

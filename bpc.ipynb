{
 "cells": [
  {
   "cell_type": "code",
   "execution_count": 3,
   "metadata": {},
   "outputs": [
    {
     "name": "stdout",
     "output_type": "stream",
     "text": [
      "Set parameter Username\n",
      "Academic license - for non-commercial use only - expires 2025-08-30\n"
     ]
    },
    {
     "data": {
      "text/plain": [
       "solve_bpc (generic function with 1 method)"
      ]
     },
     "metadata": {},
     "output_type": "display_data"
    }
   ],
   "source": [
    "include(\"src/bpc.jl\")\n"
   ]
  },
  {
   "cell_type": "code",
   "execution_count": 8,
   "metadata": {},
   "outputs": [
    {
     "name": "stdout",
     "output_type": "stream",
     "text": [
      "Items, Weight\n",
      "i: 1, w: 7\n",
      "i: 2, w: 9\n",
      "i: 3, w: 7\n",
      "i: 4, w: 5\n",
      "i: 5, w: 5\n",
      "i: 6, w: 5\n",
      "i: 7, w: 2\n",
      "i: 8, w: 1\n"
     ]
    }
   ],
   "source": [
    "J = Int64[i for i in 1:8] # items\n",
    "E = Vector{Int64}[[2, 8], [5, 6]] # items that cannot be together\n",
    "\n",
    "w = Int64[7, 9, 7, 5, 5, 5, 2, 1] # weights\n",
    "W = 10 # bin capacity\n",
    "\n",
    "println(\"Items, Weight\")\n",
    "for item in J\n",
    "    println(\"i: \", item, \", w: \", w[item])\n",
    "end"
   ]
  },
  {
   "cell_type": "code",
   "execution_count": 9,
   "metadata": {},
   "outputs": [
    {
     "name": "stdout",
     "output_type": "stream",
     "text": [
      "global bounds: [1, 9]\n",
      "node 1: |J| = 8\n",
      "\n",
      "\n",
      "node 1\n",
      "⌈∑w/W⌉ lower bound: 5\n",
      "Naive upper bound: 8\n",
      "FFD heuristic upper bound: 5\n",
      "best_node = 1\n",
      "J = [1, 2, 3, 4, 5, 6, 7, 8]\n",
      "w = [7, 9, 7, 5, 5, 5, 2, 1]\n",
      "E = [[2, 8], [5, 6]]\n",
      "W = 10\n",
      "sol = [[2], [1, 7, 8], [3], [4, 5], [6]]\n",
      "\n",
      "\n",
      "\n",
      "item_address_enum = [(1, 1), (2, 2), (3, 3), (4, 4), (5, 5), (6, 6), (7, 7), (8, 8)]\n",
      "adress_item_enum = [(1, 1), (2, 2), (3, 3), (4, 4), (5, 5), (6, 6), (7, 7), (8, 8)]\n",
      "original_w = [7, 9, 7, 5, 5, 5, 2, 1]\n",
      "branch_history = Vector{Int64}[]\n",
      "E_on_original_G = [[2, 8], [5, 6]]\n",
      "tree finished\n",
      "bounds: [5, 5]\n",
      "node.bounds: [5, 5]\n",
      "node.bounds_status: 1\n"
     ]
    },
    {
     "data": {
      "text/plain": [
       "([[2], [1, 7, 8], [3], [4, 5], [6]], 5, true)"
      ]
     },
     "metadata": {},
     "output_type": "display_data"
    }
   ],
   "source": [
    "solve_bpc(J, E, w, W, verbose=1, run_ffd=true)"
   ]
  }
 ],
 "metadata": {
  "kernelspec": {
   "display_name": "Julia 1.11.1",
   "language": "julia",
   "name": "julia-1.11"
  },
  "language_info": {
   "file_extension": ".jl",
   "mimetype": "application/julia",
   "name": "julia",
   "version": "1.11.1"
  }
 },
 "nbformat": 4,
 "nbformat_minor": 2
}

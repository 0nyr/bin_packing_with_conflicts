{
 "cells": [
  {
   "cell_type": "code",
   "execution_count": 1,
   "metadata": {},
   "outputs": [
    {
     "data": {
      "text/plain": [
       "solve_bpc (generic function with 1 method)"
      ]
     },
     "metadata": {},
     "output_type": "display_data"
    }
   ],
   "source": [
    "include(\"C:\\\\Users\\\\danie\\\\Documents\\\\GitHub\\\\bpc\\\\bpc.jl\")\n",
    "# include(\"C:\\\\Users\\\\danie\\\\.github\\\\bpc\\\\bpc.jl\")\n"
   ]
  },
  {
   "cell_type": "code",
   "execution_count": 2,
   "metadata": {},
   "outputs": [
    {
     "data": {
      "text/plain": [
       "10"
      ]
     },
     "metadata": {},
     "output_type": "display_data"
    }
   ],
   "source": [
    "J = [i for i in 1:8]\n",
    "E = [(2,8), (5, 6)]\n",
    "\n",
    "w = [7, 9, 7, 5, 5, 5, 2, 1]\n",
    "W = 10"
   ]
  },
  {
   "cell_type": "code",
   "execution_count": 3,
   "metadata": {},
   "outputs": [
    {
     "name": "stdout",
     "output_type": "stream",
     "text": [
      "Naive upper bound: 8\n",
      "⌈∑w/W⌉ lower bound: 5\n"
     ]
    },
    {
     "name": "stdout",
     "output_type": "stream",
     "text": [
      "adding lambda: [0.0, 0.0, 0.0, 1.0, 0.0, 0.0, 1.0, 1.0]"
     ]
    },
    {
     "name": "stdout",
     "output_type": "stream",
     "text": [
      "\n",
      "adding lambda: [0.0, 0.0, 0.0, 0.0, 1.0, 0.0, 0.0, 1.0]\n",
      "adding lambda: [0.0, 0.0, 0.0, 0.0, 1.0, 0.0, 1.0, 0.0]\n",
      "adding lambda: [0.0, 0.0, 0.0, 1.0, 1.0, 0.0, 0.0, 0.0]\n",
      "adding lambda: [0.0, 0.0, 0.0, 0.0, 0.0, 1.0, 1.0, 1.0]\n",
      "adding lambda: [1.0, 0.0, 0.0, 0.0, 0.0, 0.0, 1.0, 1.0]\n",
      "integer pricing empty\n"
     ]
    },
    {
     "name": "stdout",
     "output_type": "stream",
     "text": [
      "Integer CGA: 5\n"
     ]
    },
    {
     "data": {
      "text/plain": [
       "(Array{Int64}[[1, 0, 0, 0, 0, 0, 0, 0], [0, 1, 0, 0, 0, 0, 0, 0], [0, 0, 1, 0, 0, 0, 0, 0], [0, 0, 0, 1, 1, 0, 0, 0], [0, 0, 0, 0, 0, 1, 1, 1]], 5)"
      ]
     },
     "metadata": {},
     "output_type": "display_data"
    }
   ],
   "source": [
    "solve_bpc(J, E, w, W, verbose=1, run_ffd=false)"
   ]
  },
  {
   "cell_type": "code",
   "execution_count": null,
   "metadata": {},
   "outputs": [],
   "source": [
    "J = [i for i in 1:8]\n",
    "E = [(1, 4), (2, 3)]\n",
    "\n",
    "w = [9, 5, 5, 1, 7, 7, 5, 2]\n",
    "W = 10\n",
    "first_fit_decreasing(J, w, W, E)\n"
   ]
  },
  {
   "cell_type": "code",
   "execution_count": null,
   "metadata": {},
   "outputs": [],
   "source": [
    "\n",
    "bags, UB = first_fit_decreasing(J, w, W, E)\n",
    "LB = get_simple_lower_bound(w, W)\n",
    "\n",
    "println(\"UB = $(UB)\")\n",
    "println(\"LB = $(LB)\")\n",
    "\n",
    "println(\"bags: $(get_pretty_solution(bags, UB, J))\")"
   ]
  },
  {
   "cell_type": "code",
   "execution_count": null,
   "metadata": {},
   "outputs": [],
   "source": [
    "for i in [5,2,1]\n",
    "    println(\"Martello LB with α = $(i) -> LB = $(get_l2_lower_bound(i, W, w))\")\n",
    "end\n"
   ]
  },
  {
   "cell_type": "code",
   "execution_count": null,
   "metadata": {},
   "outputs": [],
   "source": [
    "sum(w)/W"
   ]
  }
 ],
 "metadata": {
  "kernelspec": {
   "display_name": "Julia 1.9.3",
   "language": "julia",
   "name": "julia-1.9"
  },
  "language_info": {
   "file_extension": ".jl",
   "mimetype": "application/julia",
   "name": "julia",
   "version": "1.9.3"
  }
 },
 "nbformat": 4,
 "nbformat_minor": 2
}

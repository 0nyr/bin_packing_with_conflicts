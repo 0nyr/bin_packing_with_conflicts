{
 "cells": [
  {
   "cell_type": "code",
   "execution_count": 9,
   "metadata": {},
   "outputs": [
    {
     "data": {
      "text/plain": [
       "solve_bpc (generic function with 1 method)"
      ]
     },
     "metadata": {},
     "output_type": "display_data"
    }
   ],
   "source": [
    "# include(\"C:\\\\Users\\\\danie\\\\Documents\\\\GitHub\\\\bpc\\\\bpc.jl\")\n",
    "# include(\"C:\\\\Users\\\\danie\\\\.github\\\\bpc\\\\bpc.jl\")\n",
    "include(\"bpc.jl\")\n"
   ]
  },
  {
   "cell_type": "code",
   "execution_count": 10,
   "metadata": {},
   "outputs": [
    {
     "data": {
      "text/plain": [
       "10"
      ]
     },
     "metadata": {},
     "output_type": "display_data"
    }
   ],
   "source": [
    "J = Int64[i for i in 1:8]\n",
    "E = Vector{Int64}[[2, 8], [5, 6]]\n",
    "\n",
    "w = Int64[7, 9, 7, 5, 5, 5, 2, 1]\n",
    "W = 10\n"
   ]
  },
  {
   "cell_type": "code",
   "execution_count": 13,
   "metadata": {},
   "outputs": [
    {
     "name": "stdout",
     "output_type": "stream",
     "text": [
      "node 1\n",
      "Naive upper bound: 8\n",
      "⌈∑w/W⌉ lower bound: 5\n",
      "FFD heuristic upper bound: 5\n",
      "tree finished\n"
     ]
    },
    {
     "data": {
      "text/plain": [
       "([[2], [1, 7, 8], [3], [4, 5], [6]], 5)"
      ]
     },
     "metadata": {},
     "output_type": "display_data"
    }
   ],
   "source": [
    "solve_bpc(J, E, w, W, verbose=1, run_ffd=true)"
   ]
  }
 ],
 "metadata": {
  "kernelspec": {
   "display_name": "Julia 1.9.3",
   "language": "julia",
   "name": "julia-1.9"
  },
  "language_info": {
   "file_extension": ".jl",
   "mimetype": "application/julia",
   "name": "julia",
   "version": "1.9.3"
  }
 },
 "nbformat": 4,
 "nbformat_minor": 2
}
